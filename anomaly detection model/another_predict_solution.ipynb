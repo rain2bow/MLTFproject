{
 "cells": [
  {
   "metadata": {},
   "cell_type": "markdown",
   "source": [
    "### 异常检测模型\n",
    "#### isolationForest"
   ],
   "id": "14426ae446e9c72e"
  },
  {
   "metadata": {},
   "cell_type": "markdown",
   "source": "### uncleaned",
   "id": "9a24cabf78546218"
  },
  {
   "metadata": {
    "ExecuteTime": {
     "end_time": "2024-11-15T15:59:39.074206Z",
     "start_time": "2024-11-15T15:59:25.122074Z"
    }
   },
   "cell_type": "code",
   "source": [
    "from sklearn.ensemble import IsolationForest\n",
    "import pandas as pd\n",
    "from sklearn.preprocessing import StandardScaler\n",
    "train_df = pd.read_csv('../uncleaned_imbalanced_train_dataset.csv')\n",
    "test_df = pd.read_csv('../uncleaned_test_dataset.csv')\n",
    "# train_df = pd.read_csv('after_balanced_train_dataset.csv')\n",
    "# test_df = pd.read_csv('after_balanced_test_dataset.csv')\n",
    "# train_df = pd.read_csv('../uncleaned_balanced_train_dataset.csv')\n",
    "# test_df = pd.read_csv('../uncleaned_test_dataset.csv')\n",
    "\n",
    "X_train = train_df.drop('isFraud', axis=1)\n",
    "y_train = train_df['isFraud']\n",
    "X_test = test_df.drop('isFraud', axis=1)\n",
    "y_test = test_df['isFraud']\n",
    "\n",
    "scaler = StandardScaler()\n",
    "\n",
    "X_train_scaled = scaler.fit_transform(X_train)\n",
    "X_test_scaled = scaler.transform(X_test)\n",
    "\n",
    "model = IsolationForest(random_state=42) \n",
    "model.fit(X_train, y_train)\n",
    "\n",
    "pred = model.predict(X_test)\n",
    "\n",
    "pred[pred == 1] = 0\n",
    "pred[pred == -1] = 1\n",
    "\n",
    "print(pred)"
   ],
   "id": "914624c64e30acbc",
   "outputs": [
    {
     "name": "stdout",
     "output_type": "stream",
     "text": [
      "[1 0 1 ... 0 0 1]\n"
     ]
    }
   ],
   "execution_count": 56
  },
  {
   "metadata": {
    "ExecuteTime": {
     "end_time": "2024-11-15T16:05:36.543281Z",
     "start_time": "2024-11-15T16:03:12.044913Z"
    }
   },
   "cell_type": "code",
   "source": [
    "from sklearn.preprocessing import StandardScaler\n",
    "from sklearn.ensemble import IsolationForest\n",
    "import numpy as np\n",
    "\n",
    "# 数据加载\n",
    "train_df = pd.read_csv('../uncleaned_imbalanced_train_dataset.csv')\n",
    "test_df = pd.read_csv('../uncleaned_test_dataset.csv')\n",
    "\n",
    "# 只选择非欺诈交易数据进行训练\n",
    "X_train_normal = train_df[train_df['isFraud'] == 0].drop('isFraud', axis=1)\n",
    "\n",
    "# 测试数据\n",
    "X_test = test_df.drop('isFraud', axis=1)\n",
    "y_test = test_df['isFraud']\n",
    "\n",
    "# 标准化\n",
    "scaler = StandardScaler()\n",
    "X_train_scaled = scaler.fit_transform(X_train_normal)\n",
    "X_test_scaled = scaler.transform(X_test)\n",
    "\n",
    "# 使用 IsolationForest\n",
    "model = IsolationForest(\n",
    "    contamination=0.05,  # 使用实际欺诈率\n",
    "    n_estimators=300,\n",
    "    max_samples=256,\n",
    "    random_state=42\n",
    ")\n",
    "\n",
    "# 只用正常样本训练\n",
    "model.fit(X_train_scaled)\n",
    "\n",
    "# 预测\n",
    "pred = model.predict(X_test_scaled)\n",
    "\n",
    "# 转换标签：1(正常) -> 0, -1(异常) -> 1\n",
    "pred= np.where(pred == 1, 0, 1)"
   ],
   "id": "169f4f7ac8328f8e",
   "outputs": [],
   "execution_count": 58
  },
  {
   "metadata": {
    "ExecuteTime": {
     "end_time": "2024-11-15T14:15:08.942665Z",
     "start_time": "2024-11-15T14:15:08.914667Z"
    }
   },
   "cell_type": "code",
   "source": [
    "from joblib import dump, load\n",
    "\n",
    "# 保存模型\n",
    "dump(model, 'fraud_detection_isolationforest.joblib')"
   ],
   "id": "c934941e82a5d80e",
   "outputs": [
    {
     "data": {
      "text/plain": [
       "['fraud_detection_isolationforest.joblib']"
      ]
     },
     "execution_count": 2,
     "metadata": {},
     "output_type": "execute_result"
    }
   ],
   "execution_count": 2
  },
  {
   "metadata": {
    "ExecuteTime": {
     "end_time": "2024-11-15T16:11:28.690282Z",
     "start_time": "2024-11-15T16:11:19.626294Z"
    }
   },
   "cell_type": "code",
   "source": [
    "import pandas as pd\n",
    "from sklearn.ensemble import IsolationForest\n",
    "from sklearn.metrics import confusion_matrix, classification_report, roc_auc_score\n",
    "import seaborn as sns\n",
    "import matplotlib.pyplot as plt\n",
    "\n",
    "# 1. 混淆矩阵\n",
    "cm = confusion_matrix(y_test, pred)\n",
    "print(\"\\nConfusion Matrix:\")\n",
    "print(cm)\n",
    "\n",
    "# 2. 分类报告\n",
    "cr = classification_report(y_test, pred)\n",
    "print(\"\\nClassification Report:\")\n",
    "print(cr)\n",
    "\n",
    "from sklearn.metrics import roc_curve, auc\n",
    "import matplotlib.pyplot as plt\n",
    "\n",
    "# 获取模型的决策函数分数\n",
    "y_scores = -model.score_samples(X_test)  # 使用负分数，因为异常值应该有更高的分数\n",
    "\n",
    "# 计算ROC曲线的参数\n",
    "fpr, tpr, thresholds = roc_curve(y_test, y_scores)\n",
    "roc_auc = auc(fpr, tpr)\n",
    "\n",
    "# 绘制ROC曲线\n",
    "plt.figure()\n",
    "plt.plot(fpr, tpr, color='blue', lw=2, label=f'ROC curve (area = {roc_auc:.2f})')\n",
    "plt.plot([0, 1], [0, 1], color='gray', lw=2, linestyle='--')\n",
    "plt.xlim([0.0, 1.0])\n",
    "plt.ylim([0.0, 1.05])\n",
    "plt.xlabel('False Positive Rate')\n",
    "plt.ylabel('True Positive Rate')\n",
    "plt.title('Receiver Operating Characteristic (ROC) Curve')\n",
    "plt.legend(loc=\"lower right\")\n",
    "plt.grid(True)\n",
    "plt.show()\n",
    "\n",
    "plt.savefig('balanced_isolation_forest.png')\n",
    "\n",
    "# 打印AUC分数\n",
    "print(f\"AUC-ROC Score: {roc_auc}\")"
   ],
   "id": "77ad9ea4beff4dc3",
   "outputs": [
    {
     "name": "stdout",
     "output_type": "stream",
     "text": [
      "\n",
      "Confusion Matrix:\n",
      "[[1207596   63285]\n",
      " [    743     900]]\n",
      "\n",
      "Classification Report:\n",
      "              precision    recall  f1-score   support\n",
      "\n",
      "           0       1.00      0.95      0.97   1270881\n",
      "           1       0.01      0.55      0.03      1643\n",
      "\n",
      "    accuracy                           0.95   1272524\n",
      "   macro avg       0.51      0.75      0.50   1272524\n",
      "weighted avg       1.00      0.95      0.97   1272524\n",
      "\n"
     ]
    },
    {
     "name": "stderr",
     "output_type": "stream",
     "text": [
      "C:\\Users\\lizey\\PycharmProjects\\MLTFproject\\.venv\\Lib\\site-packages\\sklearn\\base.py:486: UserWarning: X has feature names, but IsolationForest was fitted without feature names\n",
      "  warnings.warn(\n"
     ]
    },
    {
     "data": {
      "text/plain": [
       "<Figure size 640x480 with 1 Axes>"
      ],
      "image/png": "[encoded data removed]"
     },
     "metadata": {},
     "output_type": "display_data"
    },
    {
     "name": "stdout",
     "output_type": "stream",
     "text": [
      "AUC-ROC Score: 0.6856508150068011\n"
     ]
    },
    {
     "data": {
      "text/plain": [
       "<Figure size 640x480 with 0 Axes>"
      ]
     },
     "metadata": {},
     "output_type": "display_data"
    }
   ],
   "execution_count": 59
  },
  {
   "metadata": {},
   "cell_type": "markdown",
   "source": "### One class SVM",
   "id": "b09f91a385bd54e2"
  },
  {
   "metadata": {
    "jupyter": {
     "is_executing": true
    },
    "ExecuteTime": {
     "start_time": "2024-11-15T13:26:11.820291Z"
    }
   },
   "cell_type": "code",
   "source": [
    "from sklearn.svm import OneClassSVM\n",
    "import pandas as pd\n",
    "from sklearn.preprocessing import StandardScaler\n",
    "from sklearn.metrics import roc_curve, auc\n",
    "import matplotlib.pyplot as plt\n",
    "\n",
    "# 读取数据\n",
    "train_df = pd.read_csv('../uncleaned_imbalanced_train_dataset.csv')\n",
    "test_df = pd.read_csv('../uncleaned_test_dataset.csv')\n",
    "\n",
    "X_train = train_df.drop('isFraud', axis=1)\n",
    "y_train = train_df['isFraud']\n",
    "X_test = test_df.drop('isFraud', axis=1)\n",
    "y_test = test_df['isFraud']\n",
    "\n",
    "# 标准化数据\n",
    "scaler = StandardScaler()\n",
    "X_train_scaled = scaler.fit_transform(X_train)\n",
    "X_test_scaled = scaler.transform(X_test)\n",
    "\n",
    "# 创建和训练One-Class SVM模型\n",
    "# nu参数是异常值的预期比例的上界，kernel可以选择'rbf'，'linear'或'poly'\n",
    "model = OneClassSVM(kernel='rbf', nu=0.1)\n",
    "model.fit(X_train_scaled)\n",
    "\n",
    "# 预测\n",
    "# One-Class SVM返回1表示正常，-1表示异常\n",
    "pred = model.predict(X_test_scaled)\n",
    "\n",
    "# 转换预测结果：-1(异常)转为1(欺诈)，1(正常)转为0(非欺诈)\n",
    "pred[pred == 1] = 0\n",
    "pred[pred == -1] = 1"
   ],
   "id": "b6b8c6ce7365a3c0",
   "outputs": [],
   "execution_count": null
  },
  {
   "metadata": {},
   "cell_type": "code",
   "outputs": [],
   "execution_count": null,
   "source": [
    "\n",
    "# 获取决策函数分数用于ROC曲线\n",
    "y_scores = -model.decision_function(X_test_scaled)  # 使用负分数\n",
    "\n",
    "# 计算并绘制ROC曲线\n",
    "fpr, tpr, thresholds = roc_curve(y_test, y_scores)\n",
    "roc_auc = auc(fpr, tpr)\n",
    "\n",
    "plt.figure()\n",
    "plt.plot(fpr, tpr, color='blue', lw=2, label=f'ROC curve (area = {roc_auc:.2f})')\n",
    "plt.plot([0, 1], [0, 1], color='gray', lw=2, linestyle='--')\n",
    "plt.xlim([0.0, 1.0])\n",
    "plt.ylim([0.0, 1.05])\n",
    "plt.xlabel('False Positive Rate')\n",
    "plt.ylabel('True Positive Rate')\n",
    "plt.title('ROC Curve - One-Class SVM')\n",
    "plt.legend(loc=\"lower right\")\n",
    "plt.grid(True)\n",
    "plt.show()\n",
    "\n",
    "# 打印预测结果和AUC分数\n",
    "print(\"Predictions:\", pred)\n",
    "print(f\"AUC-ROC Score: {roc_auc:.4f}\")"
   ],
   "id": "850c1d8985944d64"
  },
  {
   "metadata": {
    "ExecuteTime": {
     "end_time": "2024-11-15T16:14:41.286887Z",
     "start_time": "2024-11-15T16:14:34.035032Z"
    }
   },
   "cell_type": "code",
   "source": [
    "from sklearn.linear_model import SGDOneClassSVM\n",
    "\n",
    "from sklearn.svm import OneClassSVM\n",
    "import pandas as pd\n",
    "from sklearn.preprocessing import StandardScaler\n",
    "from sklearn.metrics import roc_curve, auc\n",
    "import matplotlib.pyplot as plt\n",
    "\n",
    "# 读取数据\n",
    "train_df = pd.read_csv('../uncleaned_imbalanced_train_dataset.csv')\n",
    "test_df = pd.read_csv('../uncleaned_test_dataset.csv')\n",
    "# train_df = pd.read_csv('../after_balanced_train_dataset.csv')\n",
    "# test_df = pd.read_csv('../after_balanced_test_dataset.csv')\n",
    "\n",
    "X_train = train_df.drop('isFraud', axis=1)\n",
    "y_train = train_df['isFraud']\n",
    "X_test = test_df.drop('isFraud', axis=1)\n",
    "y_test = test_df['isFraud']\n",
    "\n",
    "# 标准化数据\n",
    "scaler = StandardScaler()\n",
    "X_train_scaled = scaler.fit_transform(X_train)\n",
    "X_test_scaled = scaler.transform(X_test)\n",
    "\n",
    "\n",
    "model = SGDOneClassSVM(\n",
    "    random_state=42,\n",
    "    max_iter=1000,      \n",
    "    tol=1e-4\n",
    ")\n",
    "model.fit(X_train_scaled)\n",
    "\n",
    "# 预测\n",
    "# One-Class SVM返回1表示正常，-1表示异常\n",
    "pred = model.predict(X_test_scaled)\n",
    "\n",
    "# 转换预测结果：-1(异常)转为1(欺诈)，1(正常)转为0(非欺诈)\n",
    "pred[pred == 1] = 0\n",
    "pred[pred == -1] = 1\n"
   ],
   "id": "7639061d89e849e4",
   "outputs": [],
   "execution_count": 64
  },
  {
   "metadata": {
    "ExecuteTime": {
     "end_time": "2024-11-15T16:14:43.931680Z",
     "start_time": "2024-11-15T16:14:42.940906Z"
    }
   },
   "cell_type": "code",
   "source": [
    "from sklearn.metrics import confusion_matrix, classification_report\n",
    "cm = confusion_matrix(y_test, pred)\n",
    "print(\"\\nConfusion Matrix:\")\n",
    "print(cm)\n",
    "\n",
    "# 2. 分类报告\n",
    "cr = classification_report(y_test, pred)\n",
    "print(\"\\nClassification Report:\")\n",
    "print(cr)\n",
    "\n",
    "# 获取决策函数分数用于ROC曲线\n",
    "y_scores = -model.decision_function(X_test_scaled)  # 使用负分数\n",
    "\n",
    "# 计算并绘制ROC曲线\n",
    "fpr, tpr, thresholds = roc_curve(y_test, y_scores)\n",
    "roc_auc = auc(fpr, tpr)\n",
    "\n",
    "plt.figure()\n",
    "plt.plot(fpr, tpr, color='blue', lw=2, label=f'ROC curve (area = {roc_auc:.2f})')\n",
    "plt.plot([0, 1], [0, 1], color='gray', lw=2, linestyle='--')\n",
    "plt.xlim([0.0, 1.0])\n",
    "plt.ylim([0.0, 1.05])\n",
    "plt.xlabel('False Positive Rate')\n",
    "plt.ylabel('True Positive Rate')\n",
    "plt.title('ROC Curve - One-Class SVM')\n",
    "plt.legend(loc=\"lower right\")\n",
    "plt.grid(True)\n",
    "plt.show()\n",
    "\n",
    "# 打印预测结果和AUC分数\n",
    "print(\"Predictions:\", pred)\n",
    "print(f\"AUC-ROC Score: {roc_auc:.4f}\")"
   ],
   "id": "f2b6d8679663d824",
   "outputs": [
    {
     "name": "stdout",
     "output_type": "stream",
     "text": [
      "\n",
      "Confusion Matrix:\n",
      "[[674404 596477]\n",
      " [   619   1024]]\n",
      "\n",
      "Classification Report:\n",
      "              precision    recall  f1-score   support\n",
      "\n",
      "           0       1.00      0.53      0.69   1270881\n",
      "           1       0.00      0.62      0.00      1643\n",
      "\n",
      "    accuracy                           0.53   1272524\n",
      "   macro avg       0.50      0.58      0.35   1272524\n",
      "weighted avg       1.00      0.53      0.69   1272524\n",
      "\n"
     ]
    },
    {
     "data": {
      "text/plain": [
       "<Figure size 640x480 with 1 Axes>"
      ],
      "image/png": "[encoded data removed]"
     },
     "metadata": {},
     "output_type": "display_data"
    },
    {
     "name": "stdout",
     "output_type": "stream",
     "text": [
      "Predictions: [1 0 0 ... 0 1 1]\n",
      "AUC-ROC Score: 0.6216\n"
     ]
    }
   ],
   "execution_count": 65
  },
  {
   "metadata": {
    "ExecuteTime": {
     "end_time": "2024-11-15T10:21:09.318637Z",
     "start_time": "2024-11-15T10:21:09.297279Z"
    }
   },
   "cell_type": "code",
   "source": "",
   "id": "eba5e7aeb9082bf6",
   "outputs": [
    {
     "ename": "ModuleNotFoundError",
     "evalue": "No module named 'cupy'",
     "output_type": "error",
     "traceback": [
      "\u001B[1;31m---------------------------------------------------------------------------\u001B[0m",
      "\u001B[1;31mModuleNotFoundError\u001B[0m                       Traceback (most recent call last)",
      "Cell \u001B[1;32mIn[4], line 1\u001B[0m\n\u001B[1;32m----> 1\u001B[0m \u001B[38;5;28;01mimport\u001B[39;00m \u001B[38;5;21;01mcupy\u001B[39;00m \u001B[38;5;28;01mas\u001B[39;00m \u001B[38;5;21;01mcp\u001B[39;00m\n\u001B[0;32m      2\u001B[0m \u001B[38;5;28;01mfrom\u001B[39;00m \u001B[38;5;21;01mcupy_sklearn\u001B[39;00m\u001B[38;5;21;01m.\u001B[39;00m\u001B[38;5;21;01msvm\u001B[39;00m \u001B[38;5;28;01mimport\u001B[39;00m OneClassSVM \u001B[38;5;28;01mas\u001B[39;00m CupyOneClassSVM\n\u001B[0;32m      3\u001B[0m \u001B[38;5;28;01mfrom\u001B[39;00m \u001B[38;5;21;01msklearn\u001B[39;00m\u001B[38;5;21;01m.\u001B[39;00m\u001B[38;5;21;01mpreprocessing\u001B[39;00m \u001B[38;5;28;01mimport\u001B[39;00m StandardScaler\n",
      "\u001B[1;31mModuleNotFoundError\u001B[0m: No module named 'cupy'"
     ]
    }
   ],
   "execution_count": 4
  },
  {
   "metadata": {},
   "cell_type": "code",
   "outputs": [],
   "execution_count": null,
   "source": [
    "pred[pred == 1] = 0\n",
    "pred[pred == -1] = 1\n",
    "\n",
    "# 获取决策函数分数用于ROC曲线\n",
    "y_scores = -model.decision_function(X_test_scaled)  # 使用负分数\n",
    "\n",
    "# 计算并绘制ROC曲线\n",
    "fpr, tpr, thresholds = roc_curve(y_test, y_scores)\n",
    "roc_auc = auc(fpr, tpr)\n",
    "\n",
    "plt.figure()\n",
    "plt.plot(fpr, tpr, color='blue', lw=2, label=f'ROC curve (area = {roc_auc:.2f})')\n",
    "plt.plot([0, 1], [0, 1], color='gray', lw=2, linestyle='--')\n",
    "plt.xlim([0.0, 1.0])\n",
    "plt.ylim([0.0, 1.05])\n",
    "plt.xlabel('False Positive Rate')\n",
    "plt.ylabel('True Positive Rate')\n",
    "plt.title('ROC Curve - One-Class SVM')\n",
    "plt.legend(loc=\"lower right\")\n",
    "plt.grid(True)\n",
    "plt.show()\n",
    "\n",
    "# 打印预测结果和AUC分数\n",
    "print(\"Predictions:\", pred)\n",
    "print(f\"AUC-ROC Score: {roc_auc:.4f}\")"
   ],
   "id": "9da2a861a5144081"
  },
  {
   "metadata": {},
   "cell_type": "markdown",
   "source": "",
   "id": "44bcd66b565ac6d8"
  },
  {
   "metadata": {
    "ExecuteTime": {
     "end_time": "2024-11-15T10:20:54.991930Z",
     "start_time": "2024-11-15T09:54:56.314516Z"
    }
   },
   "cell_type": "code",
   "source": [
    "from sklearn.neighbors import LocalOutlierFactor\n",
    "import pandas as pd\n",
    "from sklearn.preprocessing import StandardScaler\n",
    "from sklearn.metrics import roc_curve, auc\n",
    "import matplotlib.pyplot as plt\n",
    "\n",
    "\n",
    "\n",
    "# 读取数据\n",
    "print(\"正在读取数据...\")\n",
    "train_df = pd.read_csv('uncleaned_imbalanced_train_dataset.csv')\n",
    "test_df = pd.read_csv('uncleaned_test_dataset.csv')\n",
    "\n",
    "X_train = train_df.drop('isFraud', axis=1)\n",
    "y_train = train_df['isFraud']\n",
    "X_test = test_df.drop('isFraud', axis=1)\n",
    "y_test = test_df['isFraud']\n",
    "\n",
    "# 标准化数据\n",
    "print(\"正在标准化数据...\")\n",
    "scaler = StandardScaler()\n",
    "X_train_scaled = scaler.fit_transform(X_train)\n",
    "X_test_scaled = scaler.transform(X_test)\n",
    "\n",
    "# 创建和训练LOF模型\n",
    "print(\"开始训练LOF模型...\")\n",
    "model = LocalOutlierFactor(\n",
    "    n_neighbors=20,        # 用于计算局部密度的邻居数\n",
    "    contamination=0.1,     # 预期的异常比例\n",
    "    n_jobs=-1,            # 使用所有CPU核心\n",
    "    novelty=True          # 设置为True以便能用于预测新数据\n",
    ")\n",
    "\n",
    "# 训练模型\n",
    "model.fit(X_train_scaled)\n",
    "\n",
    "# 预测\n",
    "print(\"正在进行预测...\")\n",
    "# LOF的predict方法返回1表示正常，-1表示异常\n",
    "pred = model.predict(X_test_scaled)\n",
    "\n",
    "# 转换预测结果：-1(异常)转为1(欺诈)，1(正常)转为0(非欺诈)\n",
    "pred[pred == 1] = 0\n",
    "pred[pred == -1] = 1\n",
    "\n",
    "# 获取异常分数用于ROC曲线\n",
    "# 对于LOF，我们使用negative_outlier_factor_\n",
    "print(\"计算ROC曲线...\")\n",
    "y_scores = -model.score_samples(X_test_scaled)  # 使用负分数，使得异常值获得更高的分数\n",
    "\n",
    "# 计算并绘制ROC曲线\n",
    "fpr, tpr, thresholds = roc_curve(y_test, y_scores)\n",
    "roc_auc = auc(fpr, tpr)\n",
    "\n",
    "# 绘制ROC曲线\n",
    "plt.figure(figsize=(10, 6))\n",
    "plt.plot(fpr, tpr, color='darkorange', lw=2, \n",
    "         label=f'ROC curve (AUC = {roc_auc:.2f})')\n",
    "plt.plot([0, 1], [0, 1], color='navy', lw=2, linestyle='--')\n",
    "plt.xlim([0.0, 1.0])\n",
    "plt.ylim([0.0, 1.05])\n",
    "plt.xlabel('False Positive Rate')\n",
    "plt.ylabel('True Positive Rate')\n",
    "plt.title('ROC Curve - Local Outlier Factor (LOF)')\n",
    "plt.legend(loc=\"lower right\")\n",
    "plt.grid(True)\n",
    "plt.show()\n",
    "\n",
    "# 打印评估指标\n",
    "from sklearn.metrics import classification_report, confusion_matrix\n",
    "\n",
    "print(\"\\n分类报告:\")\n",
    "print(classification_report(y_test, pred))\n",
    "\n",
    "print(\"\\n混淆矩阵:\")\n",
    "print(confusion_matrix(y_test, pred))\n",
    "\n",
    "print(f\"\\nAUC-ROC Score: {roc_auc:.4f}\")"
   ],
   "id": "9d4b6fbbabfa0dc0",
   "outputs": [
    {
     "name": "stdout",
     "output_type": "stream",
     "text": [
      "正在读取数据...\n",
      "正在标准化数据...\n",
      "开始训练LOF模型...\n"
     ]
    },
    {
     "ename": "KeyboardInterrupt",
     "evalue": "",
     "output_type": "error",
     "traceback": [
      "\u001B[1;31m---------------------------------------------------------------------------\u001B[0m",
      "\u001B[1;31mKeyboardInterrupt\u001B[0m                         Traceback (most recent call last)",
      "Cell \u001B[1;32mIn[3], line 35\u001B[0m\n\u001B[0;32m     27\u001B[0m model \u001B[38;5;241m=\u001B[39m LocalOutlierFactor(\n\u001B[0;32m     28\u001B[0m     n_neighbors\u001B[38;5;241m=\u001B[39m\u001B[38;5;241m20\u001B[39m,        \u001B[38;5;66;03m# 用于计算局部密度的邻居数\u001B[39;00m\n\u001B[0;32m     29\u001B[0m     contamination\u001B[38;5;241m=\u001B[39m\u001B[38;5;241m0.1\u001B[39m,     \u001B[38;5;66;03m# 预期的异常比例\u001B[39;00m\n\u001B[0;32m     30\u001B[0m     n_jobs\u001B[38;5;241m=\u001B[39m\u001B[38;5;241m-\u001B[39m\u001B[38;5;241m1\u001B[39m,            \u001B[38;5;66;03m# 使用所有CPU核心\u001B[39;00m\n\u001B[0;32m     31\u001B[0m     novelty\u001B[38;5;241m=\u001B[39m\u001B[38;5;28;01mTrue\u001B[39;00m          \u001B[38;5;66;03m# 设置为True以便能用于预测新数据\u001B[39;00m\n\u001B[0;32m     32\u001B[0m )\n\u001B[0;32m     34\u001B[0m \u001B[38;5;66;03m# 训练模型\u001B[39;00m\n\u001B[1;32m---> 35\u001B[0m \u001B[43mmodel\u001B[49m\u001B[38;5;241;43m.\u001B[39;49m\u001B[43mfit\u001B[49m\u001B[43m(\u001B[49m\u001B[43mX_train_scaled\u001B[49m\u001B[43m)\u001B[49m\n\u001B[0;32m     37\u001B[0m \u001B[38;5;66;03m# 预测\u001B[39;00m\n\u001B[0;32m     38\u001B[0m \u001B[38;5;28mprint\u001B[39m(\u001B[38;5;124m\"\u001B[39m\u001B[38;5;124m正在进行预测...\u001B[39m\u001B[38;5;124m\"\u001B[39m)\n",
      "File \u001B[1;32m~\\PycharmProjects\\MLTFproject\\.venv\\Lib\\site-packages\\sklearn\\base.py:1473\u001B[0m, in \u001B[0;36m_fit_context.<locals>.decorator.<locals>.wrapper\u001B[1;34m(estimator, *args, **kwargs)\u001B[0m\n\u001B[0;32m   1466\u001B[0m     estimator\u001B[38;5;241m.\u001B[39m_validate_params()\n\u001B[0;32m   1468\u001B[0m \u001B[38;5;28;01mwith\u001B[39;00m config_context(\n\u001B[0;32m   1469\u001B[0m     skip_parameter_validation\u001B[38;5;241m=\u001B[39m(\n\u001B[0;32m   1470\u001B[0m         prefer_skip_nested_validation \u001B[38;5;129;01mor\u001B[39;00m global_skip_validation\n\u001B[0;32m   1471\u001B[0m     )\n\u001B[0;32m   1472\u001B[0m ):\n\u001B[1;32m-> 1473\u001B[0m     \u001B[38;5;28;01mreturn\u001B[39;00m \u001B[43mfit_method\u001B[49m\u001B[43m(\u001B[49m\u001B[43mestimator\u001B[49m\u001B[43m,\u001B[49m\u001B[43m \u001B[49m\u001B[38;5;241;43m*\u001B[39;49m\u001B[43margs\u001B[49m\u001B[43m,\u001B[49m\u001B[43m \u001B[49m\u001B[38;5;241;43m*\u001B[39;49m\u001B[38;5;241;43m*\u001B[39;49m\u001B[43mkwargs\u001B[49m\u001B[43m)\u001B[49m\n",
      "File \u001B[1;32m~\\PycharmProjects\\MLTFproject\\.venv\\Lib\\site-packages\\sklearn\\neighbors\\_lof.py:291\u001B[0m, in \u001B[0;36mLocalOutlierFactor.fit\u001B[1;34m(self, X, y)\u001B[0m\n\u001B[0;32m    283\u001B[0m     warnings\u001B[38;5;241m.\u001B[39mwarn(\n\u001B[0;32m    284\u001B[0m         \u001B[38;5;124m\"\u001B[39m\u001B[38;5;124mn_neighbors (\u001B[39m\u001B[38;5;132;01m%s\u001B[39;00m\u001B[38;5;124m) is greater than the \u001B[39m\u001B[38;5;124m\"\u001B[39m\n\u001B[0;32m    285\u001B[0m         \u001B[38;5;124m\"\u001B[39m\u001B[38;5;124mtotal number of samples (\u001B[39m\u001B[38;5;132;01m%s\u001B[39;00m\u001B[38;5;124m). n_neighbors \u001B[39m\u001B[38;5;124m\"\u001B[39m\n\u001B[0;32m    286\u001B[0m         \u001B[38;5;124m\"\u001B[39m\u001B[38;5;124mwill be set to (n_samples - 1) for estimation.\u001B[39m\u001B[38;5;124m\"\u001B[39m\n\u001B[0;32m    287\u001B[0m         \u001B[38;5;241m%\u001B[39m (\u001B[38;5;28mself\u001B[39m\u001B[38;5;241m.\u001B[39mn_neighbors, n_samples)\n\u001B[0;32m    288\u001B[0m     )\n\u001B[0;32m    289\u001B[0m \u001B[38;5;28mself\u001B[39m\u001B[38;5;241m.\u001B[39mn_neighbors_ \u001B[38;5;241m=\u001B[39m \u001B[38;5;28mmax\u001B[39m(\u001B[38;5;241m1\u001B[39m, \u001B[38;5;28mmin\u001B[39m(\u001B[38;5;28mself\u001B[39m\u001B[38;5;241m.\u001B[39mn_neighbors, n_samples \u001B[38;5;241m-\u001B[39m \u001B[38;5;241m1\u001B[39m))\n\u001B[1;32m--> 291\u001B[0m \u001B[38;5;28mself\u001B[39m\u001B[38;5;241m.\u001B[39m_distances_fit_X_, _neighbors_indices_fit_X_ \u001B[38;5;241m=\u001B[39m \u001B[38;5;28;43mself\u001B[39;49m\u001B[38;5;241;43m.\u001B[39;49m\u001B[43mkneighbors\u001B[49m\u001B[43m(\u001B[49m\n\u001B[0;32m    292\u001B[0m \u001B[43m    \u001B[49m\u001B[43mn_neighbors\u001B[49m\u001B[38;5;241;43m=\u001B[39;49m\u001B[38;5;28;43mself\u001B[39;49m\u001B[38;5;241;43m.\u001B[39;49m\u001B[43mn_neighbors_\u001B[49m\n\u001B[0;32m    293\u001B[0m \u001B[43m\u001B[49m\u001B[43m)\u001B[49m\n\u001B[0;32m    295\u001B[0m \u001B[38;5;28;01mif\u001B[39;00m \u001B[38;5;28mself\u001B[39m\u001B[38;5;241m.\u001B[39m_fit_X\u001B[38;5;241m.\u001B[39mdtype \u001B[38;5;241m==\u001B[39m np\u001B[38;5;241m.\u001B[39mfloat32:\n\u001B[0;32m    296\u001B[0m     \u001B[38;5;28mself\u001B[39m\u001B[38;5;241m.\u001B[39m_distances_fit_X_ \u001B[38;5;241m=\u001B[39m \u001B[38;5;28mself\u001B[39m\u001B[38;5;241m.\u001B[39m_distances_fit_X_\u001B[38;5;241m.\u001B[39mastype(\n\u001B[0;32m    297\u001B[0m         \u001B[38;5;28mself\u001B[39m\u001B[38;5;241m.\u001B[39m_fit_X\u001B[38;5;241m.\u001B[39mdtype,\n\u001B[0;32m    298\u001B[0m         copy\u001B[38;5;241m=\u001B[39m\u001B[38;5;28;01mFalse\u001B[39;00m,\n\u001B[0;32m    299\u001B[0m     )\n",
      "File \u001B[1;32m~\\PycharmProjects\\MLTFproject\\.venv\\Lib\\site-packages\\sklearn\\neighbors\\_base.py:903\u001B[0m, in \u001B[0;36mKNeighborsMixin.kneighbors\u001B[1;34m(self, X, n_neighbors, return_distance)\u001B[0m\n\u001B[0;32m    898\u001B[0m     \u001B[38;5;28;01mif\u001B[39;00m issparse(X):\n\u001B[0;32m    899\u001B[0m         \u001B[38;5;28;01mraise\u001B[39;00m \u001B[38;5;167;01mValueError\u001B[39;00m(\n\u001B[0;32m    900\u001B[0m             \u001B[38;5;124m\"\u001B[39m\u001B[38;5;132;01m%s\u001B[39;00m\u001B[38;5;124m does not work with sparse matrices. Densify the data, \u001B[39m\u001B[38;5;124m\"\u001B[39m\n\u001B[0;32m    901\u001B[0m             \u001B[38;5;124m\"\u001B[39m\u001B[38;5;124mor set algorithm=\u001B[39m\u001B[38;5;124m'\u001B[39m\u001B[38;5;124mbrute\u001B[39m\u001B[38;5;124m'\u001B[39m\u001B[38;5;124m\"\u001B[39m \u001B[38;5;241m%\u001B[39m \u001B[38;5;28mself\u001B[39m\u001B[38;5;241m.\u001B[39m_fit_method\n\u001B[0;32m    902\u001B[0m         )\n\u001B[1;32m--> 903\u001B[0m     chunked_results \u001B[38;5;241m=\u001B[39m \u001B[43mParallel\u001B[49m\u001B[43m(\u001B[49m\u001B[43mn_jobs\u001B[49m\u001B[43m,\u001B[49m\u001B[43m \u001B[49m\u001B[43mprefer\u001B[49m\u001B[38;5;241;43m=\u001B[39;49m\u001B[38;5;124;43m\"\u001B[39;49m\u001B[38;5;124;43mthreads\u001B[39;49m\u001B[38;5;124;43m\"\u001B[39;49m\u001B[43m)\u001B[49m\u001B[43m(\u001B[49m\n\u001B[0;32m    904\u001B[0m \u001B[43m        \u001B[49m\u001B[43mdelayed\u001B[49m\u001B[43m(\u001B[49m\u001B[43m_tree_query_parallel_helper\u001B[49m\u001B[43m)\u001B[49m\u001B[43m(\u001B[49m\n\u001B[0;32m    905\u001B[0m \u001B[43m            \u001B[49m\u001B[38;5;28;43mself\u001B[39;49m\u001B[38;5;241;43m.\u001B[39;49m\u001B[43m_tree\u001B[49m\u001B[43m,\u001B[49m\u001B[43m \u001B[49m\u001B[43mX\u001B[49m\u001B[43m[\u001B[49m\u001B[43ms\u001B[49m\u001B[43m]\u001B[49m\u001B[43m,\u001B[49m\u001B[43m \u001B[49m\u001B[43mn_neighbors\u001B[49m\u001B[43m,\u001B[49m\u001B[43m \u001B[49m\u001B[43mreturn_distance\u001B[49m\n\u001B[0;32m    906\u001B[0m \u001B[43m        \u001B[49m\u001B[43m)\u001B[49m\n\u001B[0;32m    907\u001B[0m \u001B[43m        \u001B[49m\u001B[38;5;28;43;01mfor\u001B[39;49;00m\u001B[43m \u001B[49m\u001B[43ms\u001B[49m\u001B[43m \u001B[49m\u001B[38;5;129;43;01min\u001B[39;49;00m\u001B[43m \u001B[49m\u001B[43mgen_even_slices\u001B[49m\u001B[43m(\u001B[49m\u001B[43mX\u001B[49m\u001B[38;5;241;43m.\u001B[39;49m\u001B[43mshape\u001B[49m\u001B[43m[\u001B[49m\u001B[38;5;241;43m0\u001B[39;49m\u001B[43m]\u001B[49m\u001B[43m,\u001B[49m\u001B[43m \u001B[49m\u001B[43mn_jobs\u001B[49m\u001B[43m)\u001B[49m\n\u001B[0;32m    908\u001B[0m \u001B[43m    \u001B[49m\u001B[43m)\u001B[49m\n\u001B[0;32m    909\u001B[0m \u001B[38;5;28;01melse\u001B[39;00m:\n\u001B[0;32m    910\u001B[0m     \u001B[38;5;28;01mraise\u001B[39;00m \u001B[38;5;167;01mValueError\u001B[39;00m(\u001B[38;5;124m\"\u001B[39m\u001B[38;5;124minternal: _fit_method not recognized\u001B[39m\u001B[38;5;124m\"\u001B[39m)\n",
      "File \u001B[1;32m~\\PycharmProjects\\MLTFproject\\.venv\\Lib\\site-packages\\sklearn\\utils\\parallel.py:74\u001B[0m, in \u001B[0;36mParallel.__call__\u001B[1;34m(self, iterable)\u001B[0m\n\u001B[0;32m     69\u001B[0m config \u001B[38;5;241m=\u001B[39m get_config()\n\u001B[0;32m     70\u001B[0m iterable_with_config \u001B[38;5;241m=\u001B[39m (\n\u001B[0;32m     71\u001B[0m     (_with_config(delayed_func, config), args, kwargs)\n\u001B[0;32m     72\u001B[0m     \u001B[38;5;28;01mfor\u001B[39;00m delayed_func, args, kwargs \u001B[38;5;129;01min\u001B[39;00m iterable\n\u001B[0;32m     73\u001B[0m )\n\u001B[1;32m---> 74\u001B[0m \u001B[38;5;28;01mreturn\u001B[39;00m \u001B[38;5;28;43msuper\u001B[39;49m\u001B[43m(\u001B[49m\u001B[43m)\u001B[49m\u001B[38;5;241;43m.\u001B[39;49m\u001B[38;5;21;43m__call__\u001B[39;49m\u001B[43m(\u001B[49m\u001B[43miterable_with_config\u001B[49m\u001B[43m)\u001B[49m\n",
      "File \u001B[1;32m~\\PycharmProjects\\MLTFproject\\.venv\\Lib\\site-packages\\joblib\\parallel.py:2007\u001B[0m, in \u001B[0;36mParallel.__call__\u001B[1;34m(self, iterable)\u001B[0m\n\u001B[0;32m   2001\u001B[0m \u001B[38;5;66;03m# The first item from the output is blank, but it makes the interpreter\u001B[39;00m\n\u001B[0;32m   2002\u001B[0m \u001B[38;5;66;03m# progress until it enters the Try/Except block of the generator and\u001B[39;00m\n\u001B[0;32m   2003\u001B[0m \u001B[38;5;66;03m# reaches the first `yield` statement. This starts the asynchronous\u001B[39;00m\n\u001B[0;32m   2004\u001B[0m \u001B[38;5;66;03m# dispatch of the tasks to the workers.\u001B[39;00m\n\u001B[0;32m   2005\u001B[0m \u001B[38;5;28mnext\u001B[39m(output)\n\u001B[1;32m-> 2007\u001B[0m \u001B[38;5;28;01mreturn\u001B[39;00m output \u001B[38;5;28;01mif\u001B[39;00m \u001B[38;5;28mself\u001B[39m\u001B[38;5;241m.\u001B[39mreturn_generator \u001B[38;5;28;01melse\u001B[39;00m \u001B[38;5;28;43mlist\u001B[39;49m\u001B[43m(\u001B[49m\u001B[43moutput\u001B[49m\u001B[43m)\u001B[49m\n",
      "File \u001B[1;32m~\\PycharmProjects\\MLTFproject\\.venv\\Lib\\site-packages\\joblib\\parallel.py:1650\u001B[0m, in \u001B[0;36mParallel._get_outputs\u001B[1;34m(self, iterator, pre_dispatch)\u001B[0m\n\u001B[0;32m   1647\u001B[0m     \u001B[38;5;28;01myield\u001B[39;00m\n\u001B[0;32m   1649\u001B[0m     \u001B[38;5;28;01mwith\u001B[39;00m \u001B[38;5;28mself\u001B[39m\u001B[38;5;241m.\u001B[39m_backend\u001B[38;5;241m.\u001B[39mretrieval_context():\n\u001B[1;32m-> 1650\u001B[0m         \u001B[38;5;28;01myield from\u001B[39;00m \u001B[38;5;28mself\u001B[39m\u001B[38;5;241m.\u001B[39m_retrieve()\n\u001B[0;32m   1652\u001B[0m \u001B[38;5;28;01mexcept\u001B[39;00m \u001B[38;5;167;01mGeneratorExit\u001B[39;00m:\n\u001B[0;32m   1653\u001B[0m     \u001B[38;5;66;03m# The generator has been garbage collected before being fully\u001B[39;00m\n\u001B[0;32m   1654\u001B[0m     \u001B[38;5;66;03m# consumed. This aborts the remaining tasks if possible and warn\u001B[39;00m\n\u001B[0;32m   1655\u001B[0m     \u001B[38;5;66;03m# the user if necessary.\u001B[39;00m\n\u001B[0;32m   1656\u001B[0m     \u001B[38;5;28mself\u001B[39m\u001B[38;5;241m.\u001B[39m_exception \u001B[38;5;241m=\u001B[39m \u001B[38;5;28;01mTrue\u001B[39;00m\n",
      "File \u001B[1;32m~\\PycharmProjects\\MLTFproject\\.venv\\Lib\\site-packages\\joblib\\parallel.py:1762\u001B[0m, in \u001B[0;36mParallel._retrieve\u001B[1;34m(self)\u001B[0m\n\u001B[0;32m   1757\u001B[0m \u001B[38;5;66;03m# If the next job is not ready for retrieval yet, we just wait for\u001B[39;00m\n\u001B[0;32m   1758\u001B[0m \u001B[38;5;66;03m# async callbacks to progress.\u001B[39;00m\n\u001B[0;32m   1759\u001B[0m \u001B[38;5;28;01mif\u001B[39;00m ((\u001B[38;5;28mlen\u001B[39m(\u001B[38;5;28mself\u001B[39m\u001B[38;5;241m.\u001B[39m_jobs) \u001B[38;5;241m==\u001B[39m \u001B[38;5;241m0\u001B[39m) \u001B[38;5;129;01mor\u001B[39;00m\n\u001B[0;32m   1760\u001B[0m     (\u001B[38;5;28mself\u001B[39m\u001B[38;5;241m.\u001B[39m_jobs[\u001B[38;5;241m0\u001B[39m]\u001B[38;5;241m.\u001B[39mget_status(\n\u001B[0;32m   1761\u001B[0m         timeout\u001B[38;5;241m=\u001B[39m\u001B[38;5;28mself\u001B[39m\u001B[38;5;241m.\u001B[39mtimeout) \u001B[38;5;241m==\u001B[39m TASK_PENDING)):\n\u001B[1;32m-> 1762\u001B[0m     \u001B[43mtime\u001B[49m\u001B[38;5;241;43m.\u001B[39;49m\u001B[43msleep\u001B[49m\u001B[43m(\u001B[49m\u001B[38;5;241;43m0.01\u001B[39;49m\u001B[43m)\u001B[49m\n\u001B[0;32m   1763\u001B[0m     \u001B[38;5;28;01mcontinue\u001B[39;00m\n\u001B[0;32m   1765\u001B[0m \u001B[38;5;66;03m# We need to be careful: the job list can be filling up as\u001B[39;00m\n\u001B[0;32m   1766\u001B[0m \u001B[38;5;66;03m# we empty it and Python list are not thread-safe by\u001B[39;00m\n\u001B[0;32m   1767\u001B[0m \u001B[38;5;66;03m# default hence the use of the lock\u001B[39;00m\n",
      "\u001B[1;31mKeyboardInterrupt\u001B[0m: "
     ]
    }
   ],
   "execution_count": 3
  },
  {
   "metadata": {
    "ExecuteTime": {
     "end_time": "2024-11-15T14:44:13.632894Z",
     "start_time": "2024-11-15T14:44:12.815632Z"
    }
   },
   "cell_type": "code",
   "source": "",
   "id": "c66a7e2c646c0f26",
   "outputs": [
    {
     "ename": "FileNotFoundError",
     "evalue": "Please build the library first!",
     "output_type": "error",
     "traceback": [
      "\u001B[1;31m---------------------------------------------------------------------------\u001B[0m",
      "\u001B[1;31mFileNotFoundError\u001B[0m                         Traceback (most recent call last)",
      "Cell \u001B[1;32mIn[15], line 1\u001B[0m\n\u001B[1;32m----> 1\u001B[0m \u001B[38;5;28;01mfrom\u001B[39;00m \u001B[38;5;21;01mthundersvm\u001B[39;00m \u001B[38;5;28;01mimport\u001B[39;00m OneClassSVM\n\u001B[0;32m      2\u001B[0m \u001B[38;5;28;01mimport\u001B[39;00m \u001B[38;5;21;01mpandas\u001B[39;00m \u001B[38;5;28;01mas\u001B[39;00m \u001B[38;5;21;01mpd\u001B[39;00m\n\u001B[0;32m      3\u001B[0m \u001B[38;5;28;01mfrom\u001B[39;00m \u001B[38;5;21;01msklearn\u001B[39;00m\u001B[38;5;21;01m.\u001B[39;00m\u001B[38;5;21;01mpreprocessing\u001B[39;00m \u001B[38;5;28;01mimport\u001B[39;00m StandardScaler\n",
      "File \u001B[1;32m~\\PycharmProjects\\MLTFproject\\.venv\\Lib\\site-packages\\thundersvm\\__init__.py:10\u001B[0m\n\u001B[0;32m      3\u001B[0m \u001B[38;5;124;03m\"\"\"\u001B[39;00m\n\u001B[0;32m      4\u001B[0m \u001B[38;5;124;03m * Name        : __init__.py\u001B[39;00m\n\u001B[0;32m      5\u001B[0m \u001B[38;5;124;03m * Author      : Locke <luojiahuan001@gmail.com>\u001B[39;00m\n\u001B[0;32m      6\u001B[0m \u001B[38;5;124;03m * Version     : 0.0.1\u001B[39;00m\n\u001B[0;32m      7\u001B[0m \u001B[38;5;124;03m * Description :\u001B[39;00m\n\u001B[0;32m      8\u001B[0m \u001B[38;5;124;03m\"\"\"\u001B[39;00m\n\u001B[0;32m      9\u001B[0m name \u001B[38;5;241m=\u001B[39m \u001B[38;5;124m\"\u001B[39m\u001B[38;5;124mthundersvm\u001B[39m\u001B[38;5;124m\"\u001B[39m\n\u001B[1;32m---> 10\u001B[0m \u001B[38;5;28;01mfrom\u001B[39;00m \u001B[38;5;21;01m.\u001B[39;00m\u001B[38;5;21;01mthundersvm\u001B[39;00m \u001B[38;5;28;01mimport\u001B[39;00m \u001B[38;5;241m*\u001B[39m\n",
      "File \u001B[1;32m~\\PycharmProjects\\MLTFproject\\.venv\\Lib\\site-packages\\thundersvm\\thundersvm.py:52\u001B[0m\n\u001B[0;32m     50\u001B[0m         thundersvm \u001B[38;5;241m=\u001B[39m CDLL(lib_path)\n\u001B[0;32m     51\u001B[0m     \u001B[38;5;28;01melse\u001B[39;00m:\n\u001B[1;32m---> 52\u001B[0m         \u001B[38;5;28;01mraise\u001B[39;00m \u001B[38;5;167;01mFileNotFoundError\u001B[39;00m(\u001B[38;5;124m\"\u001B[39m\u001B[38;5;124mPlease build the library first!\u001B[39m\u001B[38;5;124m\"\u001B[39m)\n\u001B[0;32m     53\u001B[0m SVM_TYPE \u001B[38;5;241m=\u001B[39m [\u001B[38;5;124m'\u001B[39m\u001B[38;5;124mc_svc\u001B[39m\u001B[38;5;124m'\u001B[39m, \u001B[38;5;124m'\u001B[39m\u001B[38;5;124mnu_svc\u001B[39m\u001B[38;5;124m'\u001B[39m, \u001B[38;5;124m'\u001B[39m\u001B[38;5;124mone_class\u001B[39m\u001B[38;5;124m'\u001B[39m, \u001B[38;5;124m'\u001B[39m\u001B[38;5;124mepsilon_svr\u001B[39m\u001B[38;5;124m'\u001B[39m, \u001B[38;5;124m'\u001B[39m\u001B[38;5;124mnu_svr\u001B[39m\u001B[38;5;124m'\u001B[39m]\n\u001B[0;32m     54\u001B[0m KERNEL_TYPE \u001B[38;5;241m=\u001B[39m [\u001B[38;5;124m'\u001B[39m\u001B[38;5;124mlinear\u001B[39m\u001B[38;5;124m'\u001B[39m, \u001B[38;5;124m'\u001B[39m\u001B[38;5;124mpolynomial\u001B[39m\u001B[38;5;124m'\u001B[39m, \u001B[38;5;124m'\u001B[39m\u001B[38;5;124mrbf\u001B[39m\u001B[38;5;124m'\u001B[39m, \u001B[38;5;124m'\u001B[39m\u001B[38;5;124msigmoid\u001B[39m\u001B[38;5;124m'\u001B[39m, \u001B[38;5;124m'\u001B[39m\u001B[38;5;124mprecomputed\u001B[39m\u001B[38;5;124m'\u001B[39m]\n",
      "\u001B[1;31mFileNotFoundError\u001B[0m: Please build the library first!"
     ]
    }
   ],
   "execution_count": 15
  }
 ],
 "metadata": {
  "kernelspec": {
   "display_name": "Python 3",
   "language": "python",
   "name": "python3"
  },
  "language_info": {
   "codemirror_mode": {
    "name": "ipython",
    "version": 2
   },
   "file_extension": ".py",
   "mimetype": "text/x-python",
   "name": "python",
   "nbconvert_exporter": "python",
   "pygments_lexer": "ipython2",
   "version": "2.7.6"
  }
 },
 "nbformat": 4,
 "nbformat_minor": 5
}
