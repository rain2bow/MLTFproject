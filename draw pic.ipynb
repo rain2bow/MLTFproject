{
 "cells": [
  {
   "cell_type": "code",
   "id": "initial_id",
   "metadata": {
    "collapsed": true,
    "ExecuteTime": {
     "end_time": "2024-11-17T13:57:15.285997Z",
     "start_time": "2024-11-17T13:57:15.152186Z"
    }
   },
   "source": [
    "import matplotlib.pyplot as plt\n",
    "import seaborn as sns\n",
    "\n",
    "cm = [[1185248, 85633], [ 621, 1022]]\n",
    "\n",
    "plt.figure(figsize=(8, 6))\n",
    "sns.heatmap(cm, annot=True, fmt='d', cmap='Blues')\n",
    "plt.title('Confusion Matrix')\n",
    "plt.ylabel('True Label')\n",
    "plt.xlabel('Predicted Label')\n",
    "plt.savefig('./pic/lr_confusion_matrix.png')\n",
    "plt.close()"
   ],
   "outputs": [],
   "execution_count": 1
  },
  {
   "metadata": {
    "ExecuteTime": {
     "end_time": "2024-11-17T13:58:08.354160Z",
     "start_time": "2024-11-17T13:58:08.276324Z"
    }
   },
   "cell_type": "code",
   "source": [
    "cm = [[1170243, 100638], [ 415, 1228]]\n",
    "\n",
    "plt.figure(figsize=(8, 6))\n",
    "sns.heatmap(cm, annot=True, fmt='d', cmap='Blues')\n",
    "plt.title('Confusion Matrix')\n",
    "plt.ylabel('True Label')\n",
    "plt.xlabel('Predicted Label')\n",
    "plt.savefig('./pic/svm_confusion_matrix.png')\n",
    "plt.close()"
   ],
   "id": "ee5044ad99924225",
   "outputs": [],
   "execution_count": 2
  },
  {
   "metadata": {
    "ExecuteTime": {
     "end_time": "2024-11-17T13:59:52.630391Z",
     "start_time": "2024-11-17T13:59:52.528923Z"
    }
   },
   "cell_type": "code",
   "source": [
    "cm = [[1214054, 56827], [ 370, 1273]]\n",
    "\n",
    "plt.figure(figsize=(8, 6))\n",
    "sns.heatmap(cm, annot=True, fmt='d', cmap='Blues')\n",
    "plt.title('Confusion Matrix')\n",
    "plt.ylabel('True Label')\n",
    "plt.xlabel('Predicted Label')\n",
    "plt.savefig('./pic/gbm_confusion_matrix.png')\n",
    "plt.close()"
   ],
   "id": "b69935bf6bea0968",
   "outputs": [],
   "execution_count": 3
  },
  {
   "metadata": {
    "ExecuteTime": {
     "end_time": "2024-11-17T13:59:53.869084Z",
     "start_time": "2024-11-17T13:59:53.780644Z"
    }
   },
   "cell_type": "code",
   "source": [
    "cm = [[1209799, 61082], [ 359, 1284]]\n",
    "\n",
    "plt.figure(figsize=(8, 6))\n",
    "sns.heatmap(cm, annot=True, fmt='d', cmap='Blues')\n",
    "plt.title('Confusion Matrix')\n",
    "plt.ylabel('True Label')\n",
    "plt.xlabel('Predicted Label')\n",
    "plt.savefig('./pic/rf_confusion_matrix.png')\n",
    "plt.close()"
   ],
   "id": "44ff5ed31adcdf17",
   "outputs": [],
   "execution_count": 4
  },
  {
   "metadata": {
    "ExecuteTime": {
     "end_time": "2024-11-17T13:59:54.945384Z",
     "start_time": "2024-11-17T13:59:54.847685Z"
    }
   },
   "cell_type": "code",
   "source": [
    "cm = [[1262793, 8088], [982, 661]]\n",
    "\n",
    "plt.figure(figsize=(8, 6))\n",
    "sns.heatmap(cm, annot=True, fmt='d', cmap='Blues')\n",
    "plt.title('Confusion Matrix')\n",
    "plt.ylabel('True Label')\n",
    "plt.xlabel('Predicted Label')\n",
    "plt.savefig('./pic/ann_confusion_matrix.png')\n",
    "plt.close()"
   ],
   "id": "ca82222d658bdfcd",
   "outputs": [],
   "execution_count": 5
  },
  {
   "metadata": {},
   "cell_type": "code",
   "outputs": [],
   "execution_count": null,
   "source": "##### imbalanced",
   "id": "40ed1ea15e1e6a56"
  },
  {
   "metadata": {
    "ExecuteTime": {
     "end_time": "2024-11-17T14:01:28.410905Z",
     "start_time": "2024-11-17T14:01:28.280662Z"
    }
   },
   "cell_type": "code",
   "source": [
    "cm = [[1270862, 19], [ 1643, 0]]\n",
    "\n",
    "plt.figure(figsize=(8, 6))\n",
    "sns.heatmap(cm, annot=True, fmt='d', cmap='Blues')\n",
    "plt.title('Confusion Matrix')\n",
    "plt.ylabel('True Label')\n",
    "plt.xlabel('Predicted Label')\n",
    "plt.savefig('./pic/imbalanced_lr_confusion_matrix.png')\n",
    "plt.close()"
   ],
   "id": "af3ac30b46513eb8",
   "outputs": [],
   "execution_count": 7
  },
  {
   "metadata": {
    "ExecuteTime": {
     "end_time": "2024-11-17T14:01:29.222867Z",
     "start_time": "2024-11-17T14:01:29.121539Z"
    }
   },
   "cell_type": "code",
   "source": [
    "cm = [[1270870, 11], [ 1590, 53]]\n",
    "\n",
    "plt.figure(figsize=(8, 6))\n",
    "sns.heatmap(cm, annot=True, fmt='d', cmap='Blues')\n",
    "plt.title('Confusion Matrix')\n",
    "plt.ylabel('True Label')\n",
    "plt.xlabel('Predicted Label')\n",
    "plt.savefig('./pic/imbalanced_gbm_confusion_matrix.png')\n",
    "plt.close()"
   ],
   "id": "ea14a797311c577d",
   "outputs": [],
   "execution_count": 8
  }
 ],
 "metadata": {
  "kernelspec": {
   "display_name": "Python 3",
   "language": "python",
   "name": "python3"
  },
  "language_info": {
   "codemirror_mode": {
    "name": "ipython",
    "version": 2
   },
   "file_extension": ".py",
   "mimetype": "text/x-python",
   "name": "python",
   "nbconvert_exporter": "python",
   "pygments_lexer": "ipython2",
   "version": "2.7.6"
  }
 },
 "nbformat": 4,
 "nbformat_minor": 5
}
