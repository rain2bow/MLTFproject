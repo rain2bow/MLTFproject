{
 "cells": [
  {
   "cell_type": "code",
   "id": "initial_id",
   "metadata": {
    "collapsed": true,
    "ExecuteTime": {
     "end_time": "2024-11-11T06:09:22.299496Z",
     "start_time": "2024-11-11T06:09:15.063890Z"
    }
   },
   "source": [
    "import pandas as pd\n",
    "df = pd.read_csv('originDataset.csv')\n",
    "print(df[df['isFraud']==1].shape[0])"
   ],
   "outputs": [
    {
     "name": "stdout",
     "output_type": "stream",
     "text": [
      "8213\n"
     ]
    }
   ],
   "execution_count": 14
  },
  {
   "metadata": {},
   "cell_type": "markdown",
   "source": "### 数据集处理",
   "id": "a5feca07d9749da3"
  },
  {
   "metadata": {
    "ExecuteTime": {
     "end_time": "2024-11-11T06:07:25.200669Z",
     "start_time": "2024-11-11T06:07:08.380464Z"
    }
   },
   "cell_type": "code",
   "source": [
    "# 去掉不需要的列\n",
    "\n",
    "import pandas as pd\n",
    "\n",
    "df = pd.read_csv('originDataset.csv')\n",
    "\n",
    "columns_to_drop = ['newbalanceOrig', 'oldbalanceOrg', 'oldbalanceDest', 'newbalanceDest', 'isFlaggedFraud']\n",
    "df = df.drop(columns=columns_to_drop)\n",
    "\n",
    "print(df.head())\n",
    "\n",
    "name_columns_to_drop = ['nameOrig', 'nameDest']\n",
    "df = df.drop(columns=name_columns_to_drop)\n",
    "\n",
    "# 对 'type' 列进行独热编码\n",
    "one_hot_encoded = pd.get_dummies(df['type'], prefix='type', dtype=int)\n",
    "\n",
    "# 将独热编码后的数据与原始DataFrame合并\n",
    "df = pd.concat([df, one_hot_encoded], axis=1)\n",
    "\n",
    "# 你可能也想删除原来的 'type' 列\n",
    "df = df.drop('type', axis=1)\n",
    "\n",
    "print(df.head())\n",
    "print(df.shape[0])\n",
    "print(df[df['isFraud']==0].shape[0])\n",
    "print(df[df['isFraud']==1].shape[0])\n",
    "\n",
    "df.to_csv('uncleaned_dataset.csv', index=False)"
   ],
   "id": "ee3744720209e9d3",
   "outputs": [
    {
     "name": "stdout",
     "output_type": "stream",
     "text": [
      "   step      type    amount     nameOrig     nameDest  isFraud\n",
      "0     1   PAYMENT   9839.64  C1231006815  M1979787155        0\n",
      "1     1   PAYMENT   1864.28  C1666544295  M2044282225        0\n",
      "2     1  TRANSFER    181.00  C1305486145   C553264065        1\n",
      "3     1  CASH_OUT    181.00   C840083671    C38997010        1\n",
      "4     1   PAYMENT  11668.14  C2048537720  M1230701703        0\n",
      "   step    amount  isFraud  type_CASH_IN  type_CASH_OUT  type_DEBIT  \\\n",
      "0     1   9839.64        0             0              0           0   \n",
      "1     1   1864.28        0             0              0           0   \n",
      "2     1    181.00        1             0              0           0   \n",
      "3     1    181.00        1             0              1           0   \n",
      "4     1  11668.14        0             0              0           0   \n",
      "\n",
      "   type_PAYMENT  type_TRANSFER  \n",
      "0             1              0  \n",
      "1             1              0  \n",
      "2             0              1  \n",
      "3             0              0  \n",
      "4             1              0  \n",
      "6362620\n",
      "6354407\n",
      "8213\n"
     ]
    }
   ],
   "execution_count": 10
  },
  {
   "metadata": {},
   "cell_type": "markdown",
   "source": [
    "剩余116522条交易记录，其中1461条fraud\n",
    "#### 处理不平衡数据\n",
    "    先划分出测试集，再欠拟合处理\n",
    "\n"
   ],
   "id": "5713f401bda17358"
  },
  {
   "metadata": {
    "ExecuteTime": {
     "end_time": "2024-11-11T05:55:39.839061Z",
     "start_time": "2024-11-11T05:55:39.813760Z"
    }
   },
   "cell_type": "code",
   "source": "print(one_hot_encoded)",
   "id": "514630239a2771d",
   "outputs": [
    {
     "name": "stdout",
     "output_type": "stream",
     "text": [
      "         CASH_IN  CASH_OUT  DEBIT  PAYMENT  TRANSFER\n",
      "0          False     False  False     True     False\n",
      "1          False     False  False     True     False\n",
      "2          False     False  False    False      True\n",
      "3          False      True  False    False     False\n",
      "4          False     False  False     True     False\n",
      "...          ...       ...    ...      ...       ...\n",
      "6362615    False      True  False    False     False\n",
      "6362616    False     False  False    False      True\n",
      "6362617    False      True  False    False     False\n",
      "6362618    False     False  False    False      True\n",
      "6362619    False      True  False    False     False\n",
      "\n",
      "[6362620 rows x 5 columns]\n"
     ]
    }
   ],
   "execution_count": 2
  },
  {
   "metadata": {
    "ExecuteTime": {
     "end_time": "2024-11-11T11:11:29.209341Z",
     "start_time": "2024-11-11T11:11:04.256253Z"
    }
   },
   "cell_type": "code",
   "source": [
    "from sklearn.model_selection import train_test_split\n",
    "from imblearn.under_sampling import RandomUnderSampler\n",
    "\n",
    "df = pd.read_csv('uncleaned_dataset.csv')\n",
    "\n",
    "X = df.drop('isFraud', axis=1)\n",
    "y = df['isFraud']\n",
    "\n",
    "X_train, X_test, y_train, y_test = train_test_split(X, y, test_size=0.2, random_state=42, stratify=y)\n",
    "\n",
    "train_data = pd.concat([X_train, y_train], axis=1)\n",
    "\n",
    "train_data.to_csv('uncleaned_imbalanced_train_dataset.csv', index=False)\n",
    "\n",
    "fraud = train_data[train_data['isFraud'] == 1]\n",
    "non_fraud = train_data[train_data['isFraud'] == 0]\n",
    "\n",
    "# 使用 RandomUnderSampler 进行欠采样\n",
    "rus = RandomUnderSampler(sampling_strategy=0.33, random_state=42)  # 3:1 比例\n",
    "X_train_balanced, y_train_balanced = rus.fit_resample(X_train, y_train)\n",
    "\n",
    "test_data = pd.concat([X_test, y_test], axis=1)\n",
    "test_data.to_csv('uncleaned_test_dataset.csv', index=False)\n",
    "\n",
    "# 欠采样后的训练集\n",
    "train_balanced_data = pd.concat([X_train_balanced, y_train_balanced], axis=1)\n",
    "train_balanced_data.to_csv('uncleaned_balanced_train_dataset.csv', index=False)\n",
    "\n",
    "balanced_train_df = pd.read_csv('uncleaned_balanced_train_dataset.csv')\n",
    "print(balanced_train_df[balanced_train_df['isFraud']==0].shape[0])\n",
    "print(balanced_train_df[balanced_train_df['isFraud']==1].shape[0])"
   ],
   "id": "6f96d0c6d63837c2",
   "outputs": [
    {
     "name": "stdout",
     "output_type": "stream",
     "text": [
      "19909\n",
      "6570\n"
     ]
    }
   ],
   "execution_count": 15
  },
  {
   "metadata": {},
   "cell_type": "markdown",
   "source": "",
   "id": "b1635d89129cb836"
  },
  {
   "metadata": {
    "ExecuteTime": {
     "end_time": "2024-11-15T08:46:02.961284Z",
     "start_time": "2024-11-15T08:46:01.112728Z"
    }
   },
   "cell_type": "code",
   "source": [
    "import pandas as pd\n",
    "balanced_train_df = pd.read_csv('uncleaned_imbalanced_train_dataset.csv')\n",
    "print(balanced_train_df[balanced_train_df['isFraud']==0].shape[0])\n",
    "print(balanced_train_df[balanced_train_df['isFraud']==1].shape[0])"
   ],
   "id": "706eb2402091bd85",
   "outputs": [
    {
     "name": "stdout",
     "output_type": "stream",
     "text": [
      "5083526\n",
      "6570\n"
     ]
    }
   ],
   "execution_count": 4
  },
  {
   "metadata": {
    "ExecuteTime": {
     "end_time": "2024-11-15T11:10:05.849073Z",
     "start_time": "2024-11-15T11:10:05.318670Z"
    }
   },
   "cell_type": "code",
   "source": [
    "import pandas as pd\n",
    "balanced_train_df = pd.read_csv('uncleaned_test_dataset.csv')\n",
    "print(balanced_train_df[balanced_train_df['isFraud']==0].shape[0])\n",
    "print(balanced_train_df[balanced_train_df['isFraud']==1].shape[0])"
   ],
   "id": "10a6088d0be6a2be",
   "outputs": [
    {
     "name": "stdout",
     "output_type": "stream",
     "text": [
      "1270881\n",
      "1643\n"
     ]
    }
   ],
   "execution_count": 1
  }
 ],
 "metadata": {
  "kernelspec": {
   "display_name": "Python 3",
   "language": "python",
   "name": "python3"
  },
  "language_info": {
   "codemirror_mode": {
    "name": "ipython",
    "version": 2
   },
   "file_extension": ".py",
   "mimetype": "text/x-python",
   "name": "python",
   "nbconvert_exporter": "python",
   "pygments_lexer": "ipython2",
   "version": "2.7.6"
  }
 },
 "nbformat": 4,
 "nbformat_minor": 5
}
