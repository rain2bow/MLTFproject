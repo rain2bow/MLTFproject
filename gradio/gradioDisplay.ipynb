{
 "cells": [
  {
   "cell_type": "code",
   "id": "initial_id",
   "metadata": {
    "collapsed": true,
    "ExecuteTime": {
     "end_time": "2024-11-15T13:04:20.351318Z",
     "start_time": "2024-11-15T13:04:19.301821Z"
    }
   },
   "source": [
    "from joblib import dump, load\n",
    "\n",
    "import gradio as gr\n",
    "import pandas as pd\n",
    "from joblib import load\n",
    "import os\n",
    "\n",
    "# 获取所有.joblib文件\n",
    "model_files = [f for f in os.listdir() if f.endswith('.joblib')]\n",
    "\n",
    "TRANSACTION_TYPES = ['CASH_IN', 'CASH_OUT', 'DEBIT', 'PAYMENT', 'TRANSFER']\n",
    "# 加载模型字典\n",
    "models = {model_file: load(model_file) for model_file in model_files}\n",
    "\n",
    "def predict_fraud(model_name, step, amount, transaction_type):\n",
    "    type_features = {f'type_{t}': 1 if t == transaction_type else 0 for t in TRANSACTION_TYPES}\n",
    "    \n",
    "    if amount < 0:\n",
    "        gr.Info(\"错误：amount不能为负数\")\n",
    "    if step < 0:\n",
    "        gr.Info(\"错误：step不能为负数\")\n",
    "    # 创建单条数据的DataFrame\n",
    "    data = pd.DataFrame([[\n",
    "        float(step),\n",
    "        float(amount),\n",
    "        type_features['type_CASH_IN'],\n",
    "        type_features['type_CASH_OUT'],\n",
    "        type_features['type_DEBIT'],\n",
    "        type_features['type_PAYMENT'],\n",
    "        type_features['type_TRANSFER']\n",
    "    ]], columns=['step', 'amount', 'type_CASH_IN', 'type_CASH_OUT', \n",
    "                'type_DEBIT', 'type_PAYMENT', 'type_TRANSFER'])\n",
    "    \n",
    "    # 获取选择的模型\n",
    "    model = models[model_name]\n",
    "    \n",
    "    # 预测\n",
    "    prediction = model.predict(data)[0]\n",
    "    probability = model.predict_proba(data)[0][1]\n",
    "    \n",
    "    # 返回结果\n",
    "    result = f\"预测结果: {'欺诈' if prediction == 1 else '正常'}\\n\"\n",
    "    result += f\"欺诈概率: {probability:.2%}\"\n",
    "    \n",
    "    return result\n",
    "\n",
    "# 创建界面\n",
    "demo = gr.Interface(\n",
    "    fn=predict_fraud,\n",
    "    inputs=[\n",
    "        gr.Dropdown(choices=model_files, label=\"选择模型\"),\n",
    "        gr.Number(label=\"Step\"),\n",
    "        gr.Number(label=\"Amount\"),\n",
    "        gr.Dropdown(choices=TRANSACTION_TYPES, label=\"交易类型\")\n",
    "    ],\n",
    "    outputs=gr.Textbox(label=\"预测结果\"),\n",
    "    title=\"欺诈交易检测系统\",\n",
    "    description=\"请输入交易信息进行欺诈预测\",\n",
    "    examples=[\n",
    "        [model_files[0], 300, 890577.21, 'TRANSFER'],\n",
    "        [model_files[0], 400, 150000.00, 'CASH_IN'],\n",
    "    ]\n",
    ")\n",
    "\n",
    "# 启动服务\n",
    "if __name__ == \"__main__\":\n",
    "    demo.launch()"
   ],
   "outputs": [
    {
     "name": "stdout",
     "output_type": "stream",
     "text": [
      "* Running on local URL:  http://127.0.0.1:7863\n",
      "\n",
      "To create a public link, set `share=True` in `launch()`.\n"
     ]
    },
    {
     "data": {
      "text/plain": [
       "<IPython.core.display.HTML object>"
      ],
      "text/html": [
       "<div><iframe src=\"http://127.0.0.1:7863/\" width=\"100%\" height=\"500\" allow=\"autoplay; camera; microphone; clipboard-read; clipboard-write;\" frameborder=\"0\" allowfullscreen></iframe></div>"
      ]
     },
     "metadata": {},
     "output_type": "display_data"
    }
   ],
   "execution_count": 4
  }
 ],
 "metadata": {
  "kernelspec": {
   "display_name": "Python 3",
   "language": "python",
   "name": "python3"
  },
  "language_info": {
   "codemirror_mode": {
    "name": "ipython",
    "version": 2
   },
   "file_extension": ".py",
   "mimetype": "text/x-python",
   "name": "python",
   "nbconvert_exporter": "python",
   "pygments_lexer": "ipython2",
   "version": "2.7.6"
  }
 },
 "nbformat": 4,
 "nbformat_minor": 5
}
