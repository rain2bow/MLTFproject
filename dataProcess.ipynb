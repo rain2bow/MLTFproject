{
 "cells": [
  {
   "cell_type": "code",
   "id": "initial_id",
   "metadata": {
    "collapsed": true,
    "ExecuteTime": {
     "end_time": "2024-11-11T10:17:57.778386Z",
     "start_time": "2024-11-11T10:17:44.402584Z"
    }
   },
   "source": [
    "import pandas as pd\n",
    "\n",
    "df = pd.read_csv('originDataset.csv')\n",
    "\n",
    "unique_count = df['nameDest'].nunique()\n",
    "print(\"Number of unique values in nameDest: \", unique_count)\n",
    "\n",
    "\n",
    "non_unique_nameDest = df['nameDest'].value_counts()\n",
    "non_unique_nameDest = non_unique_nameDest[non_unique_nameDest > 1].index\n",
    "\n",
    "fraud_nameDest = df[(df['nameDest'].isin(non_unique_nameDest)) & (df['isFraud'] == 1)]\n",
    "fraud_nameDest_sample = fraud_nameDest['nameDest'].value_counts().index[:5]"
   ],
   "outputs": [
    {
     "name": "stdout",
     "output_type": "stream",
     "text": [
      "Number of unique values in nameDest:  2722362\n"
     ]
    }
   ],
   "execution_count": 19
  },
  {
   "metadata": {
    "ExecuteTime": {
     "end_time": "2024-11-11T10:18:55.073252Z",
     "start_time": "2024-11-11T10:18:55.064991Z"
    }
   },
   "cell_type": "code",
   "source": "print(fraud_nameDest_sample)",
   "id": "a8e6aa3f10735843",
   "outputs": [
    {
     "name": "stdout",
     "output_type": "stream",
     "text": [
      "['C553264065' 'C38997010' 'C972765878' 'C1007251739' 'C1848415041']\n"
     ]
    }
   ],
   "execution_count": 21
  },
  {
   "metadata": {},
   "cell_type": "markdown",
   "source": "### 数据集处理",
   "id": "a5feca07d9749da3"
  },
  {
   "metadata": {
    "ExecuteTime": {
     "end_time": "2024-11-11T10:28:04.501285Z",
     "start_time": "2024-11-11T10:27:53.489410Z"
    }
   },
   "cell_type": "code",
   "source": [
    "# 去掉不需要的列\n",
    "\n",
    "import pandas as pd\n",
    "\n",
    "df = pd.read_csv('originDataset.csv')\n",
    "\n",
    "columns_to_drop = ['newbalanceOrig', 'oldbalanceOrg', 'oldbalanceDest', 'newbalanceDest']\n",
    "df = df.drop(columns=columns_to_drop)\n",
    "\n",
    "print(df.head())\n",
    "\n",
    "# 去掉不需要的行\n",
    "\n",
    "print(df.shape[0])\n",
    "df = df[df['type'].isin(['CASH_OUT', 'TRANSFER'])]\n",
    "\n",
    "# 去掉 nameDest 以 M 开头的行\n",
    "df = df[~df['nameDest'].str.startswith('M')]\n",
    "print(df.shape[0])\n",
    "print(df[df['isFraud']==1].shape[0])\n",
    "\n",
    "\n",
    "# 去除超出200，000金额的TRANSFER行\n",
    "df = df[df['isFlaggedFraud'] == 0]\n",
    "print(df[df['isFraud']==1].shape[0])\n",
    "\n",
    "# 之后由于name没有实际意义去掉这两列\n",
    "name_columns_to_drop = ['nameOrig', 'nameDest','isFlaggedFraud']\n",
    "df = df.drop(columns=name_columns_to_drop)\n",
    "\n",
    "# 将CASH_OUT编码为0，TRANSFER编码为1\n",
    "df['type'] = df['type'].map({'CASH_OUT': 0, 'TRANSFER': 1})\n",
    "\n",
    "print(df.head())\n",
    "print(df.shape[0])\n",
    "print(df[df['isFraud']==0].shape[0])\n",
    "print(df[df['isFraud']==1].shape[0])\n",
    "\n",
    "df.to_csv('cleaned_dataset.csv', index=False)"
   ],
   "id": "ee3744720209e9d3",
   "outputs": [
    {
     "name": "stdout",
     "output_type": "stream",
     "text": [
      "   step      type    amount     nameOrig     nameDest  isFraud  isFlaggedFraud\n",
      "0     1   PAYMENT   9839.64  C1231006815  M1979787155        0               0\n",
      "1     1   PAYMENT   1864.28  C1666544295  M2044282225        0               0\n",
      "2     1  TRANSFER    181.00  C1305486145   C553264065        1               0\n",
      "3     1  CASH_OUT    181.00   C840083671    C38997010        1               0\n",
      "4     1   PAYMENT  11668.14  C2048537720  M1230701703        0               0\n",
      "6362620\n",
      "2770409\n",
      "8213\n",
      "8197\n",
      "    step  type     amount  isFraud\n",
      "2      1     1     181.00        1\n",
      "3      1     0     181.00        1\n",
      "15     1     0  229133.94        0\n",
      "19     1     1  215310.30        0\n",
      "24     1     1  311685.89        0\n",
      "2770393\n",
      "2762196\n",
      "8197\n"
     ]
    }
   ],
   "execution_count": 24
  },
  {
   "metadata": {},
   "cell_type": "markdown",
   "source": [
    "剩余2770393条交易记录，其中8197条fraud\n",
    "#### 处理不平衡数据\n",
    "    先划分出测试集，再欠拟合处理\n",
    "\n"
   ],
   "id": "5713f401bda17358"
  },
  {
   "metadata": {
    "ExecuteTime": {
     "end_time": "2024-11-11T10:33:02.295578Z",
     "start_time": "2024-11-11T10:32:58.325785Z"
    }
   },
   "cell_type": "code",
   "source": [
    "from sklearn.model_selection import train_test_split\n",
    "from imblearn.under_sampling import RandomUnderSampler\n",
    "\n",
    "df = pd.read_csv('cleaned_dataset.csv')\n",
    "\n",
    "X = df.drop('isFraud', axis=1)\n",
    "y = df['isFraud']\n",
    "\n",
    "X_train, X_test, y_train, y_test = train_test_split(X, y, test_size=0.2, random_state=42, stratify=y)\n",
    "\n",
    "train_data = pd.concat([X_train, y_train], axis=1)\n",
    "\n",
    "train_data.to_csv('imbalanced_train_dataset.csv', index=False)\n",
    "\n",
    "fraud = train_data[train_data['isFraud'] == 1]\n",
    "non_fraud = train_data[train_data['isFraud'] == 0]\n",
    "\n",
    "# 使用 RandomUnderSampler 进行欠采样\n",
    "# rus = RandomUnderSampler(sampling_strategy=0.33, random_state=42)  # 3:1 比例\n",
    "rus = RandomUnderSampler(sampling_strategy=0.33, random_state=42)  # 3:1 比例\n",
    "X_train_balanced, y_train_balanced = rus.fit_resample(X_train, y_train)\n",
    "\n",
    "test_data = pd.concat([X_test, y_test], axis=1)\n",
    "test_data.to_csv('test_dataset.csv', index=False)\n",
    "\n",
    "# 欠采样后的训练集\n",
    "train_balanced_data = pd.concat([X_train_balanced, y_train_balanced], axis=1)\n",
    "train_balanced_data.to_csv('balanced_train_dataset.csv', index=False)\n",
    "\n",
    "balanced_train_df = pd.read_csv('balanced_train_dataset.csv')\n",
    "print(balanced_train_df[balanced_train_df['isFraud']==0].shape[0])\n",
    "print(balanced_train_df[balanced_train_df['isFraud']==1].shape[0])"
   ],
   "id": "6f96d0c6d63837c2",
   "outputs": [
    {
     "name": "stdout",
     "output_type": "stream",
     "text": [
      "19872\n",
      "6558\n"
     ]
    }
   ],
   "execution_count": 25
  },
  {
   "metadata": {
    "ExecuteTime": {
     "end_time": "2024-11-11T08:25:22.065926Z",
     "start_time": "2024-11-11T08:25:21.165493Z"
    }
   },
   "cell_type": "code",
   "source": [
    "from sklearn.model_selection import train_test_split\n",
    "from imblearn.under_sampling import RandomUnderSampler\n",
    "\n",
    "df = pd.read_csv('cleaned_dataset.csv')\n",
    "\n",
    "X = df.drop('isFraud', axis=1)\n",
    "y = df['isFraud']\n",
    "\n",
    "# 使用 RandomUnderSampler 进行欠采样\n",
    "rus = RandomUnderSampler(sampling_strategy=0.33, random_state=42)  # 3:1 比例\n",
    "X_balanced, y_balanced = rus.fit_resample(X, y)\n",
    "\n",
    "\n",
    "X_train, X_test, y_train, y_test = train_test_split(X_balanced, y_balanced, test_size=0.2, random_state=42, stratify=y_balanced)\n",
    "\n",
    "train_data = pd.concat([X_train, y_train], axis=1)\n",
    "train_data.to_csv('after_balanced_train_dataset.csv', index=False)\n",
    "test_data = pd.concat([X_test, y_test], axis=1)\n",
    "test_data.to_csv('after_balanced_test_dataset.csv', index=False)\n",
    "\n",
    "\n",
    "after_balanced_train_dataset_df = pd.read_csv('after_balanced_train_dataset.csv')\n",
    "print(after_balanced_train_dataset_df[after_balanced_train_dataset_df['isFraud']==0].shape[0])\n",
    "print(after_balanced_train_dataset_df[after_balanced_train_dataset_df['isFraud']==1].shape[0])"
   ],
   "id": "294445a0a956cd18",
   "outputs": [
    {
     "name": "stdout",
     "output_type": "stream",
     "text": [
      "19871\n",
      "6557\n"
     ]
    }
   ],
   "execution_count": 16
  },
  {
   "metadata": {},
   "cell_type": "code",
   "outputs": [],
   "execution_count": null,
   "source": "",
   "id": "24432ebefea8f0cc"
  }
 ],
 "metadata": {
  "kernelspec": {
   "display_name": "Python 3",
   "language": "python",
   "name": "python3"
  },
  "language_info": {
   "codemirror_mode": {
    "name": "ipython",
    "version": 2
   },
   "file_extension": ".py",
   "mimetype": "text/x-python",
   "name": "python",
   "nbconvert_exporter": "python",
   "pygments_lexer": "ipython2",
   "version": "2.7.6"
  }
 },
 "nbformat": 4,
 "nbformat_minor": 5
}
