{
 "cells": [
  {
   "cell_type": "code",
   "id": "initial_id",
   "metadata": {
    "collapsed": true,
    "ExecuteTime": {
     "end_time": "2024-11-11T05:34:03.039181Z",
     "start_time": "2024-11-11T05:34:03.034210Z"
    }
   },
   "source": "import pandas as pd",
   "outputs": [],
   "execution_count": 2
  },
  {
   "metadata": {},
   "cell_type": "markdown",
   "source": "### 数据集处理",
   "id": "a5feca07d9749da3"
  },
  {
   "metadata": {
    "ExecuteTime": {
     "end_time": "2024-11-11T06:20:14.019316Z",
     "start_time": "2024-11-11T06:20:03.122030Z"
    }
   },
   "cell_type": "code",
   "source": [
    "# 去掉不需要的列\n",
    "\n",
    "import pandas as pd\n",
    "\n",
    "df = pd.read_csv('originDataset.csv')\n",
    "\n",
    "columns_to_drop = ['newbalanceOrig', 'oldbalanceOrg', 'oldbalanceDest', 'newbalanceDest']\n",
    "df = df.drop(columns=columns_to_drop)\n",
    "\n",
    "print(df.head())\n",
    "\n",
    "# 去掉不需要的行\n",
    "\n",
    "print(df.shape[0])\n",
    "df = df[df['type'].isin(['CASH_OUT', 'TRANSFER'])]\n",
    "\n",
    "# 去掉 nameDest 以 M 开头的行\n",
    "df = df[~df['nameDest'].str.startswith('M')]\n",
    "print(df.shape[0])\n",
    "print(df[df['isFraud']==1].shape[0])\n",
    "\n",
    "\n",
    "# 去除超出200，000金额的TRANSFER行\n",
    "df = df[df['isFlaggedFraud'] == 0]\n",
    "print(df[df['isFraud']==1].shape[0])\n",
    "\n",
    "# 之后由于name没有实际意义去掉这两列\n",
    "name_columns_to_drop = ['nameOrig', 'nameDest','isFlaggedFraud']\n",
    "df = df.drop(columns=name_columns_to_drop)\n",
    "\n",
    "# 将CASH_OUT编码为0，TRANSFER编码为1\n",
    "df['type'] = df['type'].map({'CASH_OUT': 0, 'TRANSFER': 1})\n",
    "\n",
    "print(df.head())\n",
    "print(df.shape[0])\n",
    "print(df[df['isFraud']==0].shape[0])\n",
    "print(df[df['isFraud']==1].shape[0])\n",
    "\n",
    "df.to_csv('cleaned_dataset.csv', index=False)"
   ],
   "id": "ee3744720209e9d3",
   "outputs": [
    {
     "name": "stdout",
     "output_type": "stream",
     "text": [
      "   step      type    amount     nameOrig     nameDest  isFraud  isFlaggedFraud\n",
      "0     1   PAYMENT   9839.64  C1231006815  M1979787155        0               0\n",
      "1     1   PAYMENT   1864.28  C1666544295  M2044282225        0               0\n",
      "2     1  TRANSFER    181.00  C1305486145   C553264065        1               0\n",
      "3     1  CASH_OUT    181.00   C840083671    C38997010        1               0\n",
      "4     1   PAYMENT  11668.14  C2048537720  M1230701703        0               0\n",
      "6362620\n",
      "2770409\n",
      "8213\n",
      "8197\n",
      "    step  type     amount  isFraud\n",
      "2      1     1     181.00        1\n",
      "3      1     0     181.00        1\n",
      "15     1     0  229133.94        0\n",
      "19     1     1  215310.30        0\n",
      "24     1     1  311685.89        0\n",
      "2770393\n",
      "2762196\n",
      "8197\n"
     ]
    }
   ],
   "execution_count": 11
  },
  {
   "metadata": {},
   "cell_type": "markdown",
   "source": [
    "剩余2770393条交易记录，其中8197条fraud\n",
    "#### 处理不平衡数据\n",
    "    先划分出测试集，再欠拟合处理\n",
    "\n"
   ],
   "id": "5713f401bda17358"
  },
  {
   "metadata": {
    "ExecuteTime": {
     "end_time": "2024-11-11T06:22:28.606604Z",
     "start_time": "2024-11-11T06:22:24.532070Z"
    }
   },
   "cell_type": "code",
   "source": [
    "from sklearn.model_selection import train_test_split\n",
    "from imblearn.under_sampling import RandomUnderSampler\n",
    "\n",
    "df = pd.read_csv('cleaned_dataset.csv')\n",
    "\n",
    "X = df.drop('isFraud', axis=1)\n",
    "y = df['isFraud']\n",
    "\n",
    "X_train, X_test, y_train, y_test = train_test_split(X, y, test_size=0.2, random_state=42, stratify=y)\n",
    "\n",
    "train_data = pd.concat([X_train, y_train], axis=1)\n",
    "\n",
    "train_data.to_csv('imbalanced_train_dataset.csv', index=False)\n",
    "\n",
    "fraud = train_data[train_data['isFraud'] == 1]\n",
    "non_fraud = train_data[train_data['isFraud'] == 0]\n",
    "\n",
    "# 使用 RandomUnderSampler 进行欠采样\n",
    "# rus = RandomUnderSampler(sampling_strategy=0.33, random_state=42)  # 3:1 比例\n",
    "rus = RandomUnderSampler(sampling_strategy=0.1, random_state=42)  # 3:1 比例\n",
    "X_train_balanced, y_train_balanced = rus.fit_resample(X_train, y_train)\n",
    "\n",
    "test_data = pd.concat([X_test, y_test], axis=1)\n",
    "test_data.to_csv('test_dataset.csv', index=False)\n",
    "\n",
    "# 欠采样后的训练集\n",
    "train_balanced_data = pd.concat([X_train_balanced, y_train_balanced], axis=1)\n",
    "train_balanced_data.to_csv('balanced_train_dataset.csv', index=False)\n",
    "\n",
    "balanced_train_df = pd.read_csv('balanced_train_dataset.csv')\n",
    "print(balanced_train_df[balanced_train_df['isFraud']==0].shape[0])\n",
    "print(balanced_train_df[balanced_train_df['isFraud']==1].shape[0])"
   ],
   "id": "6f96d0c6d63837c2",
   "outputs": [
    {
     "name": "stdout",
     "output_type": "stream",
     "text": [
      "65580\n",
      "6558\n"
     ]
    }
   ],
   "execution_count": 13
  }
 ],
 "metadata": {
  "kernelspec": {
   "display_name": "Python 3",
   "language": "python",
   "name": "python3"
  },
  "language_info": {
   "codemirror_mode": {
    "name": "ipython",
    "version": 2
   },
   "file_extension": ".py",
   "mimetype": "text/x-python",
   "name": "python",
   "nbconvert_exporter": "python",
   "pygments_lexer": "ipython2",
   "version": "2.7.6"
  }
 },
 "nbformat": 4,
 "nbformat_minor": 5
}
