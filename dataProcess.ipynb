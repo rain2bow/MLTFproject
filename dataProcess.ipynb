{
 "cells": [
  {
   "cell_type": "code",
   "execution_count": null,
   "id": "initial_id",
   "metadata": {
    "collapsed": true
   },
   "outputs": [],
   "source": [
    ""
   ]
  },
  {
   "metadata": {},
   "cell_type": "markdown",
   "source": "### 数据集处理",
   "id": "a5feca07d9749da3"
  },
  {
   "metadata": {
    "ExecuteTime": {
     "end_time": "2024-11-08T03:39:46.447058Z",
     "start_time": "2024-11-08T03:39:37.095686Z"
    }
   },
   "cell_type": "code",
   "source": [
    "# 去掉不需要的列\n",
    "\n",
    "import pandas as pd\n",
    "\n",
    "df = pd.read_csv('originDataset.csv')\n",
    "\n",
    "columns_to_drop = ['newbalanceOrig', 'oldbalanceOrg', 'oldbalanceDest', 'newbalanceDest', 'isFlaggedFraud']\n",
    "df = df.drop(columns=columns_to_drop)\n",
    "\n",
    "print(df.head())\n",
    "\n",
    "# 去掉不需要的行\n",
    "\n",
    "print(df.shape[0])\n",
    "df = df[df['type'].isin(['CASH_OUT', 'TRANSFER'])]\n",
    "print(df.shape[0])\n",
    "\n",
    "# 去掉 nameDest 以 M 开头的行\n",
    "df = df[~df['nameDest'].str.startswith('M')]\n",
    "print(df.shape[0])\n",
    "\n",
    "# 去掉所有重复 nameDest 的行\n",
    "repeated_nameDest = df['nameDest'].value_counts()\n",
    "non_repeated_dest = repeated_nameDest[repeated_nameDest == 1].index\n",
    "df = df[df['nameDest'].isin(non_repeated_dest)]\n",
    "print(df.shape[0])\n",
    "\n",
    "# 之后由于name没有实际意义去掉这两列\n",
    "name_columns_to_drop = ['nameOrig', 'nameDest']\n",
    "df = df.drop(columns=name_columns_to_drop)\n",
    "\n",
    "# 去除超出200，000金额的TRANSFER行\n",
    "df = df[~((df['type'] == 'TRANSFER') & (df['amount'] > 200000))]\n",
    "\n",
    "# 将CASH_OUT编码为0，TRANSFER编码为1\n",
    "df['type'] = df['type'].map({'CASH_OUT': 0, 'TRANSFER': 1})\n",
    "\n",
    "print(df.head())\n",
    "print(df.shape[0])\n",
    "print(df[df['isFraud']==0].shape[0])\n",
    "print(df[df['isFraud']==1].shape[0])\n",
    "\n",
    "df.to_csv('cleaned_dataset.csv', index=False)"
   ],
   "id": "ee3744720209e9d3",
   "outputs": [
    {
     "name": "stdout",
     "output_type": "stream",
     "text": [
      "   step      type    amount     nameOrig     nameDest  isFraud\n",
      "0     1   PAYMENT   9839.64  C1231006815  M1979787155        0\n",
      "1     1   PAYMENT   1864.28  C1666544295  M2044282225        0\n",
      "2     1  TRANSFER    181.00  C1305486145   C553264065        1\n",
      "3     1  CASH_OUT    181.00   C840083671    C38997010        1\n",
      "4     1   PAYMENT  11668.14  C2048537720  M1230701703        0\n",
      "6362620\n",
      "2770409\n",
      "2770409\n",
      "128331\n",
      "        step  type     amount  isFraud\n",
      "49023      9     0  257852.70        0\n",
      "82631     10     0  215404.79        0\n",
      "96693     10     0   55289.01        0\n",
      "102296    10     0  139784.63        0\n",
      "138199    11     0   41118.00        0\n",
      "116522\n",
      "115061\n",
      "1461\n"
     ]
    }
   ],
   "execution_count": 1
  },
  {
   "metadata": {},
   "cell_type": "markdown",
   "source": [
    "剩余116522条交易记录，其中1461条fraud\n",
    "#### 处理不平衡数据\n",
    "    先划分出测试集，再欠拟合处理\n",
    "\n"
   ],
   "id": "5713f401bda17358"
  },
  {
   "metadata": {
    "ExecuteTime": {
     "end_time": "2024-11-08T03:39:58.809941Z",
     "start_time": "2024-11-08T03:39:57.320613Z"
    }
   },
   "cell_type": "code",
   "source": [
    "from sklearn.model_selection import train_test_split\n",
    "from imblearn.under_sampling import RandomUnderSampler\n",
    "\n",
    "df = pd.read_csv('cleaned_dataset.csv')\n",
    "\n",
    "X = df.drop('isFraud', axis=1)\n",
    "y = df['isFraud']\n",
    "\n",
    "X_train, X_test, y_train, y_test = train_test_split(X, y, test_size=0.2, random_state=42, stratify=y)\n",
    "\n",
    "train_data = pd.concat([X_train, y_train], axis=1)\n",
    "\n",
    "fraud = train_data[train_data['isFraud'] == 1]\n",
    "non_fraud = train_data[train_data['isFraud'] == 0]\n",
    "\n",
    "# 使用 RandomUnderSampler 进行欠采样\n",
    "rus = RandomUnderSampler(sampling_strategy=0.33, random_state=42)  # 3:1 比例\n",
    "X_train_balanced, y_train_balanced = rus.fit_resample(X_train, y_train)\n",
    "\n",
    "test_data = pd.concat([X_test, y_test], axis=1)\n",
    "test_data.to_csv('test_dataset.csv', index=False)\n",
    "\n",
    "# 欠采样后的训练集\n",
    "train_balanced_data = pd.concat([X_train_balanced, y_train_balanced], axis=1)\n",
    "train_balanced_data.to_csv('balanced_train_dataset.csv', index=False)\n",
    "\n",
    "balanced_train_df = pd.read_csv('balanced_train_dataset.csv')\n",
    "print(balanced_train_df[balanced_train_df['isFraud']==0].shape[0])\n",
    "print(balanced_train_df[balanced_train_df['isFraud']==1].shape[0])"
   ],
   "id": "6f96d0c6d63837c2",
   "outputs": [
    {
     "name": "stdout",
     "output_type": "stream",
     "text": [
      "3542\n",
      "1169\n"
     ]
    }
   ],
   "execution_count": 2
  }
 ],
 "metadata": {
  "kernelspec": {
   "display_name": "Python 3",
   "language": "python",
   "name": "python3"
  },
  "language_info": {
   "codemirror_mode": {
    "name": "ipython",
    "version": 2
   },
   "file_extension": ".py",
   "mimetype": "text/x-python",
   "name": "python",
   "nbconvert_exporter": "python",
   "pygments_lexer": "ipython2",
   "version": "2.7.6"
  }
 },
 "nbformat": 4,
 "nbformat_minor": 5
}
